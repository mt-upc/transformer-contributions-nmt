{
 "cells": [
  {
   "cell_type": "code",
   "execution_count": 1,
   "metadata": {},
   "outputs": [],
   "source": [
    "%load_ext autoreload\n",
    "%autoreload 2"
   ]
  },
  {
   "cell_type": "code",
   "execution_count": 2,
   "metadata": {},
   "outputs": [],
   "source": [
    "import os\n",
    "import torch\n",
    "# Select GPU\n",
    "torch.cuda.set_device(4)\n",
    "torch.cuda.current_device()\n",
    "\n",
    "import warnings\n",
    "from pathlib import Path\n",
    "from wrappers.interactive import *\n",
    "from wrappers.transformer_wrapper import FairseqTransformerHub\n",
    "\n",
    "import alignment.align as align\n",
    "\n",
    "import matplotlib.pyplot as plt\n",
    "from matplotlib.gridspec import GridSpec\n",
    "import seaborn as sns\n",
    "import pandas as pd\n",
    "import numpy as np\n",
    "\n",
    "import logging\n",
    "logger = logging.getLogger()\n",
    "logger.setLevel('WARNING')\n",
    "warnings.simplefilter('ignore')\n",
    "\n",
    "from dotenv import load_dotenv\n",
    "load_dotenv()\n",
    "device = \"cuda\" if torch.cuda.is_available() else \"cpu\""
   ]
  },
  {
   "cell_type": "code",
   "execution_count": 3,
   "metadata": {},
   "outputs": [],
   "source": [
    "# # Load the model in fairseq\n",
    "# from fairseq.models.bart import BARTModel\n",
    "# bart = BARTModel.from_pretrained('/home/usuaris/scratch/javier.ferrando/checkpoints/bart/bart.base', checkpoint_file='model.pt')\n",
    "# bart.eval()  # disable dropout (or leave in train mode to finetune)"
   ]
  },
  {
   "cell_type": "code",
   "execution_count": 4,
   "metadata": {},
   "outputs": [],
   "source": [
    "data_sample = 'interactive' # generate/interactive\n",
    "teacher_forcing = False # teacher forcing/free decoding\n",
    "\n",
    "green_color = '#82B366'\n",
    "red_color = '#B85450'"
   ]
  },
  {
   "cell_type": "code",
   "execution_count": 5,
   "metadata": {},
   "outputs": [],
   "source": [
    "# Paths\n",
    "europarl_dir = Path(os.environ['EUROPARL_DATA_DIR'])\n",
    "ckpt_dir = '/home/usuaris/scratch/javier.ferrando/checkpoints/bart/bart.base'\n",
    "iwslt14_dir = Path(os.environ['IWSLT14_DATA_DIR'])\n",
    "gold_dir = Path(os.environ['GOLD_ALIGNMENT_DATA_DIR'])\n",
    "#ckpt_dir = Path(os.environ['IWSLT14_CKPT_DIR'])\n",
    "\n",
    "# Choose model\n",
    "model_type = 'baseline'\n",
    "seed = 5498 # 2253  2453  5498  9240\t9819\n",
    "\n",
    "hub = FairseqTransformerHub.from_pretrained(\n",
    "    ckpt_dir,\n",
    "    checkpoint_file=f\"model.pt\",\n",
    "    data_name_or_path=\".\", # processed data\n",
    "    #(data_name_or_path=iwslt14_dir / \"data-bin\").as_posix(), \n",
    ")\n",
    "NUM_LAYERS = 6\n"
   ]
  },
  {
   "cell_type": "code",
   "execution_count": 6,
   "metadata": {},
   "outputs": [
    {
     "data": {
      "text/plain": [
       "<fairseq.tasks.denoising.DenoisingTask at 0x7fe36e58a470>"
      ]
     },
     "execution_count": 6,
     "metadata": {},
     "output_type": "execute_result"
    }
   ],
   "source": [
    "hub.task"
   ]
  },
  {
   "cell_type": "code",
   "execution_count": null,
   "metadata": {},
   "outputs": [],
   "source": [
    "if data_sample == 'interactive':\n",
    "    # index in dataset\n",
    "    i = 120 # index in dataset\n",
    "    #test_set_dir = europarl_dir / \"processed_data/\"\n",
    "\n",
    "    test_set_dir = iwslt14_dir / \"tokenized/\"\n",
    "    test_set_dir = gold_dir / \"tokenized/\"\n",
    "    src = \"de\"\n",
    "    tgt = \"en\"\n",
    "    tokenizer = \"bpe\"\n",
    "    sample = hub.get_interactive_sample(i, test_set_dir, src,\n",
    "                                        tgt, tokenizer, hallucination=None)# '▁unk'\n",
    "    src_tensor = sample['src_tensor']\n",
    "    tgt_tensor = sample['tgt_tensor']\n",
    "    src_tok = sample['src_tok']\n",
    "\n",
    "    print(sample['src_word_sent'])\n",
    "    print(sample['tgt_word_sent'])"
   ]
  }
 ],
 "metadata": {
  "kernelspec": {
   "display_name": "Python 3.6.12 ('int_nmt': conda)",
   "language": "python",
   "name": "python3"
  },
  "language_info": {
   "codemirror_mode": {
    "name": "ipython",
    "version": 3
   },
   "file_extension": ".py",
   "mimetype": "text/x-python",
   "name": "python",
   "nbconvert_exporter": "python",
   "pygments_lexer": "ipython3",
   "version": "3.6.12"
  },
  "orig_nbformat": 4,
  "vscode": {
   "interpreter": {
    "hash": "d90d8f5aa2056217711987bb6fa8dc20d62369a1e594ceedbb30cde0480a32e5"
   }
  }
 },
 "nbformat": 4,
 "nbformat_minor": 2
}
