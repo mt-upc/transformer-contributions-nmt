{
 "cells": [
  {
   "cell_type": "markdown",
   "metadata": {},
   "source": [
    "## Collocation"
   ]
  },
  {
   "cell_type": "code",
   "execution_count": 6,
   "metadata": {},
   "outputs": [],
   "source": [
    "import warnings\n",
    "import collections\n",
    "import json"
   ]
  },
  {
   "cell_type": "markdown",
   "metadata": {},
   "source": [
    "### Building the dictionaries needed to calculate the PMI\n",
    "Warning: Do not execute this cells if you already have the dictionaries. Move on to the next section to compute the PMI for a sample."
   ]
  },
  {
   "cell_type": "code",
   "execution_count": 7,
   "metadata": {},
   "outputs": [],
   "source": [
    "europarl_dir = \"/home/usuaris/veu/javier.ferrando/norm-analysis-of-transformer/exp2_nmt/work/\"\n",
    "\n",
    "# test_de_bpe = europarl_dir + \"processed_data/test.bpe.de\"\n",
    "# test_en_bpe = europarl_dir + \"processed_data/test.bpe.en\"\n",
    "train_de_bpe = europarl_dir + \"processed_data/train.bpe.de\"\n",
    "train_en_bpe = europarl_dir + \"processed_data/train.bpe.en\"\n",
    "\n",
    "warnings.simplefilter('ignore')\n",
    "\n",
    "# with open(test_de_bpe, encoding=\"utf-8\") as fbpe:\n",
    "#     src_bpe_sents = fbpe.readlines()\n",
    "# with open(test_en_bpe, encoding=\"utf-8\") as fbpe:\n",
    "#     tgt_bpe_sents = fbpe.readlines()\n",
    "\n",
    "with open(train_de_bpe, encoding=\"utf-8\") as fbpe:\n",
    "    train_src_bpe_sents = fbpe.readlines()\n",
    "with open(train_en_bpe, encoding=\"utf-8\") as fbpe:\n",
    "    train_tgt_bpe_sents = fbpe.readlines()\n",
    "\n"
   ]
  },
  {
   "cell_type": "code",
   "execution_count": 8,
   "metadata": {},
   "outputs": [],
   "source": [
    "# path = \"/home/usuaris/veu/belen.alastruey/europarl_lm_data/dict.txt\"\n",
    "# words = []\n",
    "# with open(path, 'r+') as dictfile:\n",
    "#     for line in dictfile:\n",
    "#         words.append(line.split()[0].replace('▁',''))\n",
    "#     dictfile.close()\n",
    "# words = list(set(words))"
   ]
  },
  {
   "cell_type": "code",
   "execution_count": 9,
   "metadata": {},
   "outputs": [],
   "source": [
    "def update_dict(w, sentence, d):\n",
    "    for paired_word in sentence:\n",
    "        d[w][paired_word] += 1"
   ]
  },
  {
   "cell_type": "code",
   "execution_count": 12,
   "metadata": {},
   "outputs": [
    {
     "name": "stdout",
     "output_type": "stream",
     "text": [
      "Building dictionaries...\n",
      "Start iterating over samples...\n",
      "Processing sample  0  out of 1.9M\n",
      "Processing sample  100000  out of 1.9M\n",
      "Processing sample  200000  out of 1.9M\n",
      "Processing sample  300000  out of 1.9M\n",
      "Processing sample  400000  out of 1.9M\n",
      "Processing sample  500000  out of 1.9M\n",
      "Processing sample  600000  out of 1.9M\n",
      "Processing sample  700000  out of 1.9M\n",
      "Processing sample  800000  out of 1.9M\n",
      "Processing sample  900000  out of 1.9M\n",
      "Processing sample  1000000  out of 1.9M\n",
      "Processing sample  1100000  out of 1.9M\n",
      "Processing sample  1200000  out of 1.9M\n",
      "Processing sample  1300000  out of 1.9M\n",
      "Processing sample  1400000  out of 1.9M\n",
      "Processing sample  1500000  out of 1.9M\n",
      "Processing sample  1600000  out of 1.9M\n",
      "Processing sample  1700000  out of 1.9M\n",
      "Processing sample  1800000  out of 1.9M\n",
      "Processing sample  1900000  out of 1.9M\n",
      "Finished counting.\n",
      "Saving results in a json...\n",
      "Finished saving.\n"
     ]
    }
   ],
   "source": [
    "print('Building dictionaries...')\n",
    "d_src = collections.defaultdict(collections.Counter)\n",
    "d_tgt = collections.defaultdict(collections.Counter)\n",
    "\n",
    "print('Start iterating over samples...')\n",
    "count = 0\n",
    "for idx, (sample_src, sample_tgt) in enumerate(zip(train_src_bpe_sents, train_tgt_bpe_sents)):\n",
    "    if idx%100000 == 0:\n",
    "        print('Processing sample ', idx, ' out of 1.9M')\n",
    "    sample_src_list = sample_src.replace('▁', '').split()\n",
    "    sample_tgt_list = sample_tgt.replace('▁', '').split()\n",
    "    for idx, word in enumerate(sample_tgt_list):\n",
    "        update_dict(word, sample_src_list, d_src)\n",
    "        update_dict(word, sample_tgt_list[:(idx-1)], d_tgt)\n",
    "print('Finished counting.')\n",
    "print('Saving results in a json...')\n",
    "d_src_file = open(\"dictionaries/d_src.json\", \"w\")\n",
    "d_src_file = json.dump(d_src, d_src_file)\n",
    "d_tgt_file = open(\"dictionaries/d_tgt.json\", \"w\")\n",
    "d_tgt_file = json.dump(d_tgt, d_tgt_file)\n",
    "print('Finished saving.')"
   ]
  },
  {
   "cell_type": "code",
   "execution_count": 42,
   "metadata": {},
   "outputs": [
    {
     "name": "stdout",
     "output_type": "stream",
     "text": [
      "Counting German words...\n",
      "Finished counting.\n",
      "Saving results in a json...\n",
      "Finished saving.\n"
     ]
    }
   ],
   "source": [
    "print('Counting German words...')\n",
    "d_words_de = collections.Counter()\n",
    "for sample in train_src_bpe_sents:\n",
    "    sample = sample.replace('▁', '').split()\n",
    "    for word in sample:\n",
    "        d_words_de[word] += 1\n",
    "print('Finished counting.')\n",
    "print('Saving results in a json...')\n",
    "d_words_de_file = open(\"dictionaries/d_words_de.json\", \"w\")\n",
    "d_words_de_file = json.dump(d_words_de, d_words_de_file)\n",
    "print('Finished saving.')"
   ]
  },
  {
   "cell_type": "code",
   "execution_count": 15,
   "metadata": {},
   "outputs": [
    {
     "name": "stdout",
     "output_type": "stream",
     "text": [
      "Counting English words...\n",
      "Finished counting.\n",
      "Saving results in a json...\n",
      "Finished saving.\n"
     ]
    }
   ],
   "source": [
    "print('Counting English words...')\n",
    "d_words_en = collections.Counter()\n",
    "for sample in train_tgt_bpe_sents:\n",
    "    sample = sample.replace('▁', '').split()\n",
    "    for word in sample:\n",
    "        d_words_en[word] += 1\n",
    "print('Finished counting.')\n",
    "print('Saving results in a json...')\n",
    "d_words_en_file = open(\"dictionaries/d_words_en.json\", \"w\")\n",
    "d_words_en_file = json.dump(d_words_en, d_words_en_file)\n",
    "print('Finished saving.')"
   ]
  },
  {
   "cell_type": "markdown",
   "metadata": {},
   "source": [
    "### Compute PMI for a sample"
   ]
  },
  {
   "cell_type": "code",
   "execution_count": 17,
   "metadata": {},
   "outputs": [
    {
     "name": "stderr",
     "output_type": "stream",
     "text": [
      "2022-03-10 13:27:14 | INFO | fairseq.tasks.text_to_speech | Please install tensorboardX: pip install tensorboardX\n"
     ]
    }
   ],
   "source": [
    "import os\n",
    "import torch\n",
    "import math\n",
    "torch.cuda.set_device(0)\n",
    "torch.cuda.current_device()\n",
    "\n",
    "import warnings\n",
    "from pathlib import Path\n",
    "from fairseq_transformer_wrapper import FairseqTransformerHub, parse_single_alignment\n",
    "\n",
    "import matplotlib.pyplot as plt\n",
    "import seaborn as sns\n",
    "import pandas as pd\n",
    "import numpy as np\n",
    "\n",
    "import logging\n",
    "logger = logging.getLogger()\n",
    "logger.setLevel('WARNING')\n",
    "\n",
    "from dotenv import load_dotenv\n",
    "load_dotenv()\n",
    "device = \"cuda\" if torch.cuda.is_available() else \"cpu\""
   ]
  },
  {
   "cell_type": "markdown",
   "metadata": {},
   "source": [
    "Load sample"
   ]
  },
  {
   "cell_type": "code",
   "execution_count": 18,
   "metadata": {},
   "outputs": [],
   "source": [
    "europarl_dir = Path(os.environ['EUROPARL_DATA_DIR'])\n",
    "ckpt_dir = Path(os.environ['EUROPARL_CKPT_DIR'])\n",
    "\n",
    "\n",
    "### Alignment test (BPE from Europarl)\n",
    "test_de_bpe = europarl_dir / \"processed_data/test.bpe.de\"\n",
    "test_de_word =  europarl_dir / \"processed_data/test.de\"\n",
    "test_en_bpe = europarl_dir / \"processed_data/test.bpe.en\"\n",
    "test_en_word = europarl_dir / \"processed_data/test.en\"\n",
    "gold_alignment = europarl_dir / \"gold_alignment/alignment.talp\"\n",
    "\n",
    "\n",
    "warnings.simplefilter('ignore')\n",
    "\n",
    "with open(test_de_bpe, encoding=\"utf-8\") as fbpe:\n",
    "    src_bpe_sents = fbpe.readlines()\n",
    "with open(test_en_bpe, encoding=\"utf-8\") as fbpe:\n",
    "    tgt_bpe_sents = fbpe.readlines()\n",
    "with open(europarl_dir / \"data_in_progress/test.uc.de\", encoding=\"utf-8\") as fword:\n",
    "    src_word_sents = fword.readlines()\n",
    "with open(europarl_dir / \"data_in_progress/test.uc.en\", encoding=\"utf-8\") as fword:\n",
    "    tgt_word_sents = fword.readlines()\n",
    "\n",
    "\n",
    "model_type = 'baseline'\n",
    "suffix = '_q_self_attn_head' #'_q_wandb'\n",
    "seed = 2253                  # 1234\n",
    "\n",
    "if model_type == 'baseline':\n",
    "    suffix=''\n",
    "\n",
    "hub = FairseqTransformerHub.from_pretrained(\n",
    "    ckpt_dir / f\"{model_type}/{seed}\",\n",
    "    checkpoint_file=f\"checkpoint_best{suffix}.pt\",\n",
    "    data_name_or_path=(europarl_dir / \"processed_data/fairseq_preprocessed_data\").as_posix(),\n",
    "    #(data_name_or_path=iwslt14_dir / \"data-bin\").as_posix(),\n",
    ")\n",
    "num_layers = 6\n",
    "eos_id = hub.tgt_dict.index(\"</s>\")"
   ]
  },
  {
   "cell_type": "code",
   "execution_count": 19,
   "metadata": {},
   "outputs": [],
   "source": [
    "# Select a sample\n",
    "i = 2 #3"
   ]
  },
  {
   "cell_type": "code",
   "execution_count": 20,
   "metadata": {},
   "outputs": [
    {
     "name": "stdout",
     "output_type": "stream",
     "text": [
      "Sicher - wenn ein Drogenabhängiger zum Dealer wird , dann ist es richtig und notwendig , daß er dafür auch vor dem Gesetz zur Rechenschaft gezogen wird .\n",
      "\n",
      "Of course , if a drug addict becomes a pusher , then it is right and necessary that he should pay and answer before the law also .\n",
      "\n"
     ]
    }
   ],
   "source": [
    "# Gold alignment data\n",
    "src_word_sent = src_word_sents[i]\n",
    "print(src_word_sent)\n",
    "tgt_word_sent = tgt_word_sents[i]\n",
    "print(tgt_word_sent)\n",
    "\n",
    "src_tok_str = src_bpe_sents[i].strip()\n",
    "src_tok = src_tok_str.split()\n",
    "\n",
    "tgt_tok_str = tgt_bpe_sents[i].strip()\n",
    "tgt_tok = tgt_tok_str.split()\n",
    "src_tensor = torch.tensor([hub.src_dict.index(t) for t in src_tok_str.split()] + [eos_id])#.to(device)\n",
    "#src_tensor = torch.tensor([hub.tgt_dict.index(\"<unk>\") for t in src_tok_str.split()] + [eos_id])#.to(device)\n",
    "\n",
    "\n",
    "tgt_tensor = torch.tensor([hub.tgt_dict.index(t) for t in tgt_tok_str.split()] + [eos_id])#.to(device)"
   ]
  },
  {
   "cell_type": "code",
   "execution_count": 21,
   "metadata": {},
   "outputs": [
    {
     "name": "stdout",
     "output_type": "stream",
     "text": [
      "\n",
      "\n",
      "GREEDY DECODING\n",
      "\n",
      "Predicted sentence: \t certainly course , if a drug addict becomes a dealer , it it is right and necessary that he should be attention be before the law . .\n",
      "\n",
      "\n",
      "BEAM SEARCH\n",
      "\n",
      "-0.44968464970588684 \t of course , if a drug addict becomes a dealer , then it is right and necessary that he should also be held to account before the law .\n",
      "-0.45907098054885864 \t of course , if a drug addict becomes a dealer , then it is right and necessary that he should be held to account before the law .\n",
      "-0.4609526991844177 \t of course , if a drug addict becomes a dealer , it is right and necessary that he should be held to account before the law .\n",
      "-0.4631890058517456 \t certainly , if a drug addict becomes a dealer , it is right and necessary that he should be held to account before the law .\n",
      "-0.5051776766777039 \t of course , if a drug addict becomes a dealer , then it is right and necessary that he should be held to account before the law too .\n"
     ]
    }
   ],
   "source": [
    "model_output, log_probs, encoder_out, layer_inputs, layer_outputs = hub.trace_forward(src_tensor, tgt_tensor)\n",
    "\n",
    "print(\"\\n\\nGREEDY DECODING\\n\")\n",
    "pred_log_probs, pred_tensor = torch.max(log_probs, dim=-1)\n",
    "pred_tok = hub.decode(pred_tensor, hub.task.tgt_dict)\n",
    "pred_sent = hub.decode(pred_tensor, hub.task.tgt_dict, as_string=True)\n",
    "print(f\"Predicted sentence: \\t {pred_sent}\")\n",
    "\n",
    "print(\"\\n\\nBEAM SEARCH\\n\")\n",
    "for pred in hub.generate(src_tensor, 5):\n",
    "    pred_sent = hub.decode(pred['tokens'], hub.task.tgt_dict, as_string=True)\n",
    "    score = pred['score'].item()\n",
    "    print(f\"{score} \\t {pred_sent}\")"
   ]
  },
  {
   "cell_type": "code",
   "execution_count": 32,
   "metadata": {},
   "outputs": [],
   "source": [
    "pred = [word.replace('▁', '') for word in pred_tok]\n",
    "tgt = [word.replace('▁', '') for word in tgt_tok]\n",
    "src = src_bpe_sents[i].replace('▁', '').split()\n",
    "\n",
    "\n",
    "d_words_de = json.load(open(\"dictionaries/d_words_de.json\"))\n",
    "d_words_en = json.load(open(\"dictionaries/d_words_en.json\"))\n",
    "d_src = json.load(open(\"dictionaries/d_src.json\"))\n",
    "d_tgt = json.load(open(\"dictionaries/d_tgt.json\"))\n",
    "\n",
    "n_en_words = len(d_words_en.keys())\n",
    "n_de_words = len(d_words_de.keys())\n"
   ]
  },
  {
   "cell_type": "markdown",
   "metadata": {},
   "source": [
    "Compute PMI"
   ]
  },
  {
   "cell_type": "code",
   "execution_count": 33,
   "metadata": {},
   "outputs": [],
   "source": [
    "def src_pred_pmi(word_pred, word_src):\n",
    "    if (word_pred in d_src.keys()) and (word_src in d_src[word_pred].keys()):\n",
    "        src_score = d_src[word_pred][word_src]\n",
    "        pmi_src = math.log(n_en_words*n_de_words, 2)+math.log(src_score/(d_words_de[word_src]*d_words_en[word_pred]), 2)\n",
    "        return pmi_src\n",
    "    else:\n",
    "        return 0\n",
    "\n",
    "\n",
    "def tgt_pred_pmi(word_pred, word_tgt):\n",
    "    if (word_pred in d_tgt.keys()) and (word_tgt in d_tgt[word_pred].keys()):\n",
    "        tgt_score = d_tgt[word_pred][word_tgt]\n",
    "        pmi_tgt = math.log(n_en_words*n_en_words, 2)+math.log(tgt_score/(d_words_en[word_tgt]*d_words_en[word_pred]), 2)\n",
    "        return pmi_tgt\n",
    "    else:\n",
    "        return 0\n"
   ]
  },
  {
   "cell_type": "code",
   "execution_count": 34,
   "metadata": {},
   "outputs": [],
   "source": [
    "all_pmis_enc = []\n",
    "for pred_word in pred:\n",
    "    row = []\n",
    "    for src_word in src:\n",
    "        row.append(src_pred_pmi(pred_word,src_word))\n",
    "    all_pmis_enc.append(row)\n",
    "\n",
    "all_pmis_dec = []\n",
    "for pred_word in pred:\n",
    "    row = []\n",
    "    for tgt_word in tgt:\n",
    "        row.append(tgt_pred_pmi(pred_word,tgt_word))\n",
    "    all_pmis_dec.append(row)\n",
    "\n",
    "all_pmis_enc = np.array(all_pmis_enc)\n",
    "all_pmis_dec = np.array(all_pmis_dec)\n",
    "tri_mask = np.ma.make_mask(np.triu(np.ones(len(tgt)), 1))\n",
    "all_pmis_dec[tri_mask] = 0\n",
    "all_pmis = np.concatenate((all_pmis_enc, all_pmis_dec), axis=1)\n",
    "all_pmis = all_pmis/all_pmis.sum(axis=-1,keepdims=True)"
   ]
  },
  {
   "cell_type": "code",
   "execution_count": 35,
   "metadata": {},
   "outputs": [
    {
     "data": {
      "image/png": "[encoded data removed]",
      "text/plain": [
       "<Figure size 864x864 with 2 Axes>"
      ]
     },
     "metadata": {},
     "output_type": "display_data"
    }
   ],
   "source": [
    "df = pd.DataFrame(all_pmis, columns = src_tok + pred_tok, index = pred_tok)\n",
    "sns.set(font_scale=1)\n",
    "sns.heatmap(df,cmap=\"Blues\",square=True)#Reds,,center=0\n",
    "plt.gcf().subplots_adjust(bottom=0.2)"
   ]
  },
  {
   "cell_type": "markdown",
   "metadata": {},
   "source": [
    "Check whether the encoder or the decoder have the higher PMI for every predicted token"
   ]
  },
  {
   "cell_type": "code",
   "execution_count": 36,
   "metadata": {},
   "outputs": [
    {
     "name": "stdout",
     "output_type": "stream",
     "text": [
      "certainly --> encoder\n",
      "course --> encoder\n",
      ", --> encoder\n",
      "if --> encoder\n",
      "a --> encoder\n",
      "drug --> encoder\n",
      "add --> encoder\n",
      "ict --> encoder\n",
      "becomes --> decoder\n",
      "a --> encoder\n",
      "deal --> encoder\n",
      "er --> encoder\n",
      ", --> encoder\n",
      "it --> encoder\n",
      "it --> encoder\n",
      "is --> encoder\n",
      "right --> encoder\n",
      "and --> encoder\n",
      "necessary --> encoder\n",
      "that --> encoder\n",
      "he --> decoder\n",
      "should --> encoder\n",
      "be --> encoder\n",
      "attention --> decoder\n",
      "be --> encoder\n",
      "before --> encoder\n",
      "the --> encoder\n",
      "law --> encoder\n",
      ". --> encoder\n",
      ". --> encoder\n"
     ]
    }
   ],
   "source": [
    "for w, e, d in zip(pred, list(all_pmis_enc.max(axis=1)), list(all_pmis_dec.max(axis=1))):\n",
    "    if e > d:\n",
    "        print(w, '--> encoder')\n",
    "    else:\n",
    "        print(w, '--> decoder')"
   ]
  }
 ],
 "metadata": {
  "interpreter": {
   "hash": "df0893f56f349688326838aaeea0de204df53a132722cbd565e54b24a8fec5f6"
  },
  "kernelspec": {
   "display_name": "Python 3.8.0 64-bit",
   "language": "python",
   "name": "python3"
  },
  "language_info": {
   "codemirror_mode": {
    "name": "ipython",
    "version": 3
   },
   "file_extension": ".py",
   "mimetype": "text/x-python",
   "name": "python",
   "nbconvert_exporter": "python",
   "pygments_lexer": "ipython3",
   "version": "3.8.12"
  },
  "orig_nbformat": 4
 },
 "nbformat": 4,
 "nbformat_minor": 2
}
