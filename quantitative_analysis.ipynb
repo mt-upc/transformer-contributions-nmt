{
 "cells": [
  {
   "cell_type": "code",
   "execution_count": 1,
   "metadata": {},
   "outputs": [],
   "source": [
    "%load_ext autoreload\n",
    "%autoreload 2"
   ]
  },
  {
   "cell_type": "code",
   "execution_count": 2,
   "metadata": {},
   "outputs": [],
   "source": [
    "import os\n",
    "import torch\n",
    "\n",
    "torch.cuda.set_device(4)\n",
    "torch.cuda.current_device()\n",
    "\n",
    "import warnings\n",
    "from pathlib import Path\n",
    "from wrappers.transformer_wrapper import FairseqTransformerHub\n",
    "\n",
    "import alignment.align as align\n",
    "\n",
    "import matplotlib.pyplot as plt\n",
    "import seaborn as sns\n",
    "import pandas as pd\n",
    "import numpy as np\n",
    "\n",
    "from collections import defaultdict\n",
    "import statistics\n",
    "\n",
    "import logging\n",
    "logger = logging.getLogger()\n",
    "\n",
    "logger.setLevel('WARNING')\n",
    "warnings.simplefilter('ignore')\n",
    "\n",
    "from dotenv import load_dotenv\n",
    "load_dotenv()\n",
    "device = \"cuda\" if torch.cuda.is_available() else \"cpu\""
   ]
  },
  {
   "cell_type": "markdown",
   "metadata": {},
   "source": [
    "## Load model"
   ]
  },
  {
   "cell_type": "code",
   "execution_count": 3,
   "metadata": {},
   "outputs": [],
   "source": [
    "data_sample = 'interactive' # generate/interactive\n",
    "teacher_forcing = False # teacher forcing/free decoding\n",
    "\n",
    "green_color = '#82B366'\n",
    "red_color = '#B85450'"
   ]
  },
  {
   "cell_type": "code",
   "execution_count": 4,
   "metadata": {},
   "outputs": [],
   "source": [
    "# Paths\n",
    "europarl_dir = Path(os.environ['EUROPARL_DATA_DIR'])\n",
    "ckpt_dir = Path(os.environ['EUROPARL_CKPT_DIR'])\n",
    "#iwslt14_dir = Path(os.environ['IWSLT14_DATA_DIR'])\n",
    "#ckpt_dir = Path(os.environ['IWSLT14_CKPT_DIR'])\n",
    "\n",
    "# Choose model\n",
    "model_type = 'baseline'\n",
    "seed = 5498 # 2253  2453  5498  9240\t9819\n",
    "\n",
    "hub = FairseqTransformerHub.from_pretrained(\n",
    "    ckpt_dir / f\"{model_type}/{seed}\",\n",
    "    checkpoint_file=f\"checkpoint_best.pt\",\n",
    "    data_name_or_path=(europarl_dir / \"processed_data/fairseq_preprocessed_data\").as_posix(), # processed data\n",
    "    #(data_name_or_path=iwslt14_dir / \"data-bin\").as_posix(), \n",
    ")\n",
    "NUM_LAYERS = 6\n"
   ]
  },
  {
   "cell_type": "markdown",
   "metadata": {},
   "source": [
    "## Get sample for analysis"
   ]
  },
  {
   "cell_type": "code",
   "execution_count": 5,
   "metadata": {},
   "outputs": [],
   "source": [
    "# Get sample from provided test data\n",
    "\n",
    "if data_sample == 'generate':\n",
    "    i = 386  # 0, 1 28, 45, 148 (pred_tok vs tgt_tok), 178, 16 (Hallucination), 421 (Hallucination)\n",
    "\n",
    "    src_sent, src_tok, src_tensor, tgt_sent, tgt_tok, tgt_tensor = hub.get_sample('test', i)\n",
    "    print(f\"\\nSource sentence: \\t {src_sent}\")\n",
    "    print(f\"Target sentence: \\t {tgt_sent}\")"
   ]
  },
  {
   "cell_type": "code",
   "execution_count": 28,
   "metadata": {},
   "outputs": [
    {
     "name": "stdout",
     "output_type": "stream",
     "text": [
      "1\n",
      "das stimmt nicht !\n",
      "\n",
      "but this is not what happens .\n",
      "\n",
      "8\n",
      "das protokoll der gestrigen sitzung wurde verteilt .\n",
      "\n",
      "the minutes of yesterday 's sitting have been distributed .\n",
      "\n",
      "14\n",
      "sie versanden .\n",
      "\n",
      "they are silting up .\n",
      "\n",
      "33\n",
      "die kommission hat diesen appell vernommen .\n",
      "\n",
      "the commission heeded this call .\n",
      "\n",
      "43\n",
      "deshalb besteht die notwendigkeit einer europäischen richtlinie .\n",
      "\n",
      "therefore there is a need for a european directive .\n",
      "\n",
      "65\n",
      "gibt es einwände ?\n",
      "\n",
      "are there any other comments ?\n",
      "\n",
      "77\n",
      "zur empfehlung für die zweite lesung meier\n",
      "\n",
      "meier recommendation for second reading\n",
      "\n",
      "83\n",
      "natürlich gibt es da einen unterschied .\n",
      "\n",
      "of course there is a difference .\n",
      "\n",
      "86\n",
      "das ist der punkt !\n",
      "\n",
      "this is the whole point !\n",
      "\n",
      "87\n",
      "eine entsprechende änderung wird vorgenommen werden .\n",
      "\n",
      "the necessary correction will be made .\n",
      "\n",
      "105\n",
      "wir benötigen detaillierte , konkrete vorschläge .\n",
      "\n",
      "we need detailed , concrete proposals .\n",
      "\n",
      "121\n",
      "aber das hat leider tradition !\n",
      "\n",
      "but that unfortunately has become a tradition !\n",
      "\n",
      "130\n",
      "sicher nicht .\n",
      "\n",
      "surely not .\n",
      "\n",
      "134\n",
      "frau präsidentin , bleiben wir doch ernsthaft !\n",
      "\n",
      "madam president , surely we must take things seriously !\n",
      "\n",
      "158\n",
      "die kultur wird vernichtet .\n",
      "\n",
      "culture is being exterminated .\n",
      "\n",
      "163\n",
      "die industrie hatte dies erwartet .\n",
      "\n",
      "the industry was expecting that .\n",
      "\n",
      "174\n",
      "diese ansicht teilen wir überhaupt nicht .\n",
      "\n",
      "this is a view we do not in any way share .\n",
      "\n",
      "181\n",
      "die gemeinsame aussprache ist geschlossen .\n",
      "\n",
      "the joint debate is closed .\n",
      "\n",
      "198\n",
      "vielen dank , herr kommissar .\n",
      "\n",
      "thank you , commissioner .\n",
      "\n",
      "217\n",
      "genehmigung des protokolls\n",
      "\n",
      "approval of the minutes\n",
      "\n",
      "265\n",
      "tschad\n",
      "\n",
      "chad\n",
      "\n",
      "272\n",
      "wir haben für den bericht gestimmt .\n",
      "\n",
      "we are voting for the report .\n",
      "\n",
      "288\n",
      "wir sind heute enttäuscht .\n",
      "\n",
      "today , we are disappointed .\n",
      "\n",
      "308\n",
      "das sind sie nicht !\n",
      "\n",
      "not at all !\n",
      "\n",
      "322\n",
      "das ist rassismus !\n",
      "\n",
      "that is racism .\n",
      "\n",
      "335\n",
      "was müssen wir anschließend erleben ?\n",
      "\n",
      "and what do we have here ?\n",
      "\n",
      "337\n",
      "unsere bürger verlangen rechte .\n",
      "\n",
      "our citizens are demanding rights .\n",
      "\n",
      "346\n",
      "die hauptsorge ist die arbeitslosigkeit .\n",
      "\n",
      "the main concern is unemployment .\n",
      "\n",
      "364\n",
      "all dies fand ich sehr gut .\n",
      "\n",
      "i found it excellent .\n",
      "\n",
      "368\n",
      "china seinerseits ist gefordert .\n",
      "\n",
      "china , for its part , has expectations to live up to .\n",
      "\n",
      "386\n",
      "das ist natürlich falsch .\n",
      "\n",
      "that , of course , is untrue .\n",
      "\n",
      "399\n",
      "die kommission wird auch den änderungsantrag nr .\n",
      "\n",
      "the commission will also accept amendment no 7 .\n",
      "\n",
      "406\n",
      "wir kommen zur abstimmung .\n",
      "\n",
      "we shall now proceed to the vote .\n",
      "\n",
      "412\n",
      "wir alle sind davon betroffen .\n",
      "\n",
      "these things concern all of us .\n",
      "\n",
      "425\n",
      "das ist eine recht gute idee .\n",
      "\n",
      "this is quite a good idea .\n",
      "\n",
      "456\n",
      "wie konnte er sie nur übersehen ?\n",
      "\n",
      "but how could he have overlooked you ?\n",
      "\n",
      "457\n",
      "frau präsidentin , meine damen und herren !\n",
      "\n",
      "madam president , ladies and gentlemen .\n",
      "\n",
      "489\n",
      "ich habe eine ganz kurze frage .\n",
      "\n",
      "i have a very brief question .\n",
      "\n",
      "491\n",
      "europa ist krank .\n",
      "\n",
      "europe is sick .\n",
      "\n"
     ]
    }
   ],
   "source": [
    "test_set_dir = europarl_dir / \"processed_data/\"\n",
    "src = \"de\"\n",
    "tgt = \"en\"\n",
    "tokenizer = \"bpe\"\n",
    "\n",
    "for i in range(508):\n",
    "    # index in dataset\n",
    "    src_word_sent, src_tok, src_tok_str, src_tensor, tgt_word_sent, tgt_tok, tgt_tok_str, tgt_tensor = hub.get_interactive_sample(i, test_set_dir, src, tgt, tokenizer, hallucination=True)\n",
    "    if src_tensor.size(0) <10:\n",
    "        print(i)\n",
    "        print(src_word_sent)\n",
    "        print(tgt_word_sent)"
   ]
  },
  {
   "cell_type": "code",
   "execution_count": 152,
   "metadata": {},
   "outputs": [
    {
     "name": "stdout",
     "output_type": "stream",
     "text": [
      "herr kommissar , liebe kolleginnen und kollegen ! zunächst herzlichen dank , herr burtone , für ihren bericht .\n",
      "\n",
      "commissioner , ladies and gentlemen , i should like to begin by thanking mr burtone for his report .\n",
      "\n"
     ]
    }
   ],
   "source": [
    "if data_sample == 'interactive':\n",
    "    # Get sample from Gold alignment dataset\n",
    "\n",
    "    # index in dataset\n",
    "    i = 3 # index in dataset\n",
    "    # 3, 100, 105, 107, 120 (example paper), 163 (error visible)\n",
    "    test_set_dir = europarl_dir / \"processed_data/\"\n",
    "    src = \"de\"\n",
    "    tgt = \"en\"\n",
    "    tokenizer = \"bpe\"\n",
    "    src_word_sent, src_tok, src_tok_str, src_tensor, tgt_word_sent, tgt_tok, tgt_tok_str, tgt_tensor = hub.get_interactive_sample(i, test_set_dir, src, tgt, tokenizer, hallucination=False)\n",
    "\n",
    "    print(src_word_sent)\n",
    "    print(tgt_word_sent)"
   ]
  },
  {
   "cell_type": "markdown",
   "metadata": {},
   "source": [
    "## Test set analysis"
   ]
  },
  {
   "cell_type": "markdown",
   "metadata": {},
   "source": [
    "### Encoder output representations mixing"
   ]
  },
  {
   "cell_type": "code",
   "execution_count": 120,
   "metadata": {},
   "outputs": [],
   "source": [
    "test_set_dir = europarl_dir / \"processed_data/\"\n",
    "src = \"de\"\n",
    "tgt = \"en\"\n",
    "tokenizer = \"bpe\"\n",
    "\n",
    "results_dict = defaultdict(list)\n",
    "\n",
    "for i in range(508):\n",
    "    # index in dataset\n",
    "    src_word_sent, src_tok, src_tok_str, src_tensor, tgt_word_sent, tgt_tok, tgt_tok_str, tgt_tensor = hub.get_interactive_sample(i, test_set_dir, src, tgt, tokenizer, hallucination=False)\n",
    "    if len(src_tok)>20 and len(src_tok)<23:\n",
    "        relevances_enc_self_attn = hub.get_contribution_rollout(src_tensor, tgt_tensor, 'l1', norm_mode='min_sum')['encoder.self_attn']\n",
    "        results_dict['means'].append(torch.diagonal(relevances_enc_self_attn[-1]).mean().detach().item())\n",
    "        results_dict['stds'].append(torch.diagonal(relevances_enc_self_attn[-1]).std().detach().item())"
   ]
  },
  {
   "cell_type": "code",
   "execution_count": 121,
   "metadata": {},
   "outputs": [
    {
     "name": "stdout",
     "output_type": "stream",
     "text": [
      "Total of 39 sentences\n",
      "Mean:  0.3910024846211458\n",
      "Std:  0.19302802857680199\n"
     ]
    }
   ],
   "source": [
    "\n",
    "total_sentences = len(results_dict['means'])\n",
    "print(f'Total of {total_sentences} sentences')\n",
    "print('Mean: ', statistics.mean(results_dict['means']))\n",
    "print('Std: ', statistics.mean(results_dict['stds']))"
   ]
  },
  {
   "cell_type": "markdown",
   "metadata": {},
   "source": [
    "## Hallucinations Analysis"
   ]
  },
  {
   "cell_type": "code",
   "execution_count": null,
   "metadata": {},
   "outputs": [],
   "source": [
    "for i in range(508):\n",
    "    # index in dataset\n",
    "    src_word_sent, src_tok, src_tok_str, src_tensor, tgt_word_sent, tgt_tok, tgt_tok_str, tgt_tensor = hub.get_interactive_sample(i, test_set_dir, src, tgt, tokenizer, hallucination=False)\n",
    "    prefix_tokens = torch.tensor([[3]]).to('cuda')\n",
    "    total_alti = hub.get_contribution_rollout(src_tensor, tgt_tensor, 'l1', norm_mode='min_sum')['total']\n",
    "    \n",
    "        "
   ]
  },
  {
   "cell_type": "code",
   "execution_count": 153,
   "metadata": {},
   "outputs": [
    {
     "name": "stdout",
     "output_type": "stream",
     "text": [
      "\n",
      "\n",
      "BEAM SEARCH\n",
      "\n",
      "-1.2187076807022095 \t <unk>ατhe committee on foreign affairs , human rights , common security and defence policy ( cdb ) .\n",
      "\n",
      "\n",
      "GREEDY DECODING with hypothesis 1\n",
      "\n",
      "Predicted sentence: \t mrατhe committee on foreign affairs , human rights , common security and defence policy ( cdb ) .\n"
     ]
    }
   ],
   "source": [
    "if not teacher_forcing:\n",
    "    tgt_tensor_free = []\n",
    "    # prefix_tokens = ['</s>','</s>','</s>']\n",
    "    # eos_id = hub.task.tgt_dict.eos_index # EOS token index\n",
    "    # prefix_tokens = torch.tensor([eos_id] + [hub.tgt_dict.index(t) for t in prefix_tokens])\n",
    "\n",
    "    prefix_tokens = torch.tensor([[3]]).to('cuda')\n",
    "    inference_step_args={'prefix_tokens': prefix_tokens}\n",
    "\n",
    "    print(\"\\n\\nBEAM SEARCH\\n\")\n",
    "    for pred in hub.generate(src_tensor, 1, inference_step_args = inference_step_args):\n",
    "        tgt_tensor_free.append(pred['tokens'])\n",
    "        pred_sent = hub.decode(pred['tokens'], hub.task.tgt_dict, as_string=True)\n",
    "        score = pred['score'].item()\n",
    "        print(f\"{score} \\t {pred_sent}\")\n",
    "\n",
    "    hypo = 0 # first hypothesis\n",
    "    tgt_tensor = tgt_tensor_free[hypo]\n",
    "    \n",
    "    # We add eos token at the beginning of sentence and delete it from the end\n",
    "    tgt_tensor = torch.cat([torch.tensor([hub.task.tgt_dict.eos_index]).to(tgt_tensor.device),\n",
    "                    tgt_tensor[:-1]\n",
    "                ]).to(tgt_tensor.device)\n",
    "    tgt_tok = hub.decode(tgt_tensor, hub.task.tgt_dict, as_string=False)\n",
    "    target_sentence = tgt_tok\n",
    "    source_sentence = src_tok\n",
    "\n",
    "    model_output, log_probs, encoder_out, layer_inputs, layer_outputs = hub.trace_forward(src_tensor, tgt_tensor)\n",
    "\n",
    "    print(f\"\\n\\nGREEDY DECODING with hypothesis {hypo+1}\\n\")\n",
    "    pred_log_probs, pred_tensor = torch.max(log_probs, dim=-1)\n",
    "    pred_tok = hub.decode(pred_tensor, hub.task.tgt_dict)\n",
    "    pred_sent = hub.decode(pred_tensor, hub.task.tgt_dict, as_string=True)\n",
    "    print(f\"Predicted sentence: \\t {pred_sent}\")\n",
    "    predicted_sentence = pred_tok"
   ]
  },
  {
   "cell_type": "code",
   "execution_count": 155,
   "metadata": {},
   "outputs": [],
   "source": [
    "i = 3\n",
    "#src_word_sent, src_tok, src_tok_str, src_tensor, tgt_word_sent, tgt_tok, tgt_tok_str, tgt_tensor = hub.get_interactive_sample(i, test_set_dir, src, tgt, tokenizer, hallucination=False)\n",
    "# prefix_tokens = torch.tensor([[3]]).to('cuda')\n",
    "# tgt_tensor = torch.cat([torch.tensor([hub.task.tgt_dict.eos_index, prefix_tokens]).to(tgt_tensor.device),\n",
    "#                 tgt_tensor[2:]\n",
    "#             ]).to(tgt_tensor.device)\n",
    "total_alti = hub.get_contribution_rollout(src_tensor, tgt_tensor, 'l1', norm_mode='min_sum')['total']"
   ]
  },
  {
   "cell_type": "markdown",
   "metadata": {},
   "source": [
    "## Generate Translations"
   ]
  },
  {
   "cell_type": "code",
   "execution_count": 14,
   "metadata": {},
   "outputs": [],
   "source": [
    "def get_translation(sample, prefix_tokens=None):\n",
    "    \"\"\"Get translation and total source contribution by ALTI\"\"\"\n",
    "    \n",
    "    inference_step_args={'prefix_tokens': prefix_tokens}\n",
    "    # Get sample from test set\n",
    "    sample = hub.get_interactive_sample(i, test_set_dir, src, tgt, tokenizer)\n",
    "    src_tensor = sample['src_tensor']\n",
    "    tgt_tensor_free = []\n",
    "    # Compute beam search (beam = 1 greedy decoding)\n",
    "    for pred in hub.generate(src_tensor, 1, inference_step_args = inference_step_args):\n",
    "        tgt_tensor_free.append(pred['tokens'])\n",
    "        pred_sent = hub.decode(pred['tokens'], hub.task.tgt_dict, as_string=True)\n",
    "        score = pred['score'].item()\n",
    "        #print(f\"{score} \\t {pred_sent}\")\n",
    "        \n",
    "\n",
    "    hypo = 0 # first hypothesis\n",
    "    tgt_tensor = tgt_tensor_free[hypo]\n",
    "    \n",
    "    # We add eos token at the beginning of sentence and delete it from the end\n",
    "    tgt_tensor = torch.cat([torch.tensor([hub.task.tgt_dict.eos_index]).to(tgt_tensor.device),\n",
    "                    tgt_tensor[:-1]\n",
    "                ]).to(tgt_tensor.device)\n",
    "\n",
    "    total_rollout = hub.get_contribution_rollout(src_tensor, tgt_tensor, 'l1', norm_mode='min_sum')['total'].detach()\n",
    "    # Get total source contribution\n",
    "    src_total_alti = total_rollout[-1][:,:src_tensor.size(0)].sum(dim=-1)\n",
    "    # We delete the first prediction (only source and bos contribution)\n",
    "    src_total_alti = src_total_alti[1:]\n",
    "\n",
    "    return pred_sent, src_total_alti\n"
   ]
  },
  {
   "cell_type": "code",
   "execution_count": 62,
   "metadata": {},
   "outputs": [],
   "source": [
    "test_set_dir = europarl_dir / \"processed_data/\"\n",
    "src = \"de\"\n",
    "tgt = \"en\"\n",
    "tokenizer = \"bpe\"\n",
    "standard_translation = open('results/translations.txt', 'w', encoding=\"utf-8\")\n",
    "perturbed_translation = open('results/translations_unk.txt', 'w', encoding=\"utf-8\")\n",
    "src_alti_perturbed_list = []\n",
    "src_alti_list = []\n",
    "\n",
    "for i in range(508):\n",
    "    #inference_step_args = None\n",
    "    get_translation(sample, prefix_tokens=None)\n",
    "\n",
    "    \n",
    "    sample = hub.get_interactive_sample(i, test_set_dir, src, tgt, tokenizer)\n",
    "\n",
    "    # Standard translation\n",
    "    pred_sent, src_total_alti  = get_translation(sample, prefix_tokens=None)\n",
    "    standard_translation.write(pred_sent + '\\n')\n",
    "    src_alti_list.append(src_total_alti.tolist())\n",
    "\n",
    "    # Perturbed translation\n",
    "    prefix_tokens = torch.tensor([[3]]).to('cuda')\n",
    "    pred_sent_perturbed, src_alti_perturbed  = get_translation(sample, prefix_tokens=prefix_tokens)\n",
    "    perturbed_translation.write(pred_sent_perturbed + '\\n')\n",
    "    \n",
    "    src_alti_perturbed_list.append(src_alti_perturbed.tolist())\n",
    "\n",
    "standard_translation.close()\n",
    "perturbed_translation.close()"
   ]
  },
  {
   "cell_type": "code",
   "execution_count": 68,
   "metadata": {},
   "outputs": [],
   "source": [
    "import csv\n",
    "\n",
    "with open('results/src_alti.csv', 'w') as f:\n",
    "    write = csv.writer(f)\n",
    "    write.writerow(src_alti_list)\n",
    "\n",
    "with open('results/src_alti_unk.csv', 'w') as f:\n",
    "    write = csv.writer(f)\n",
    "    write.writerow(src_alti_perturbed_list)"
   ]
  },
  {
   "cell_type": "code",
   "execution_count": 63,
   "metadata": {},
   "outputs": [],
   "source": [
    "#import sacrebleu\n",
    "from sacrebleu.metrics import BLEU, CHRF, TER\n",
    "import nltk\n",
    "bleu = BLEU(max_ngram_order=4)\n",
    "def compute_bleu(reference, candidate):\n",
    "    return bleu.corpus_score([candidate],[[reference]]).score\n",
    "\n",
    "def read_file(path):\n",
    "    with open(path,'r') as f:\n",
    "        return list(f.readlines())\n",
    "#compute BLEU score against the reference for each baseline and model output\n",
    "refs = []\n",
    "model_translations = []\n",
    "hallucinations = []\n",
    "refs.append(read_file(\"data/de-en/test.en\"))\n",
    "model_translations.append(read_file(\"results/translations.txt\"))\n",
    "hallucinations.append(read_file(\"results/translations_unk.txt\"))\n",
    "diff_score = []\n",
    "scores = []\n",
    "\n",
    "for i in range(len(refs[0])):# len(refs[0])\n",
    "    model_score = sum([compute_bleu(refs[j][i],model_translations[j][i]) for j in range(len(model_translations))])/len(model_translations)\n",
    "    hallucinations_score = sum([compute_bleu(refs[j][i],hallucinations[j][i]) for j in range(len(hallucinations))])/len(hallucinations)\n",
    "    diff_score.append((i,model_score-hallucinations_score))\n",
    "    scores.append((i, model_score, hallucinations_score))\n",
    "    #print('Computed score', i, model_score, hallucinations_score)\n",
    "    #print('Computed score', i, model_score)"
   ]
  },
  {
   "cell_type": "code",
   "execution_count": 78,
   "metadata": {},
   "outputs": [],
   "source": [
    "# Apply algorithm for extracting hallucination\n",
    "hallucination_set = []\n",
    "for (i, model_score, hallucinations_score) in scores:\n",
    "    if model_score > 0.2:\n",
    "        if hallucinations_score < 0.05:\n",
    "            hallucination_set.append(i)"
   ]
  },
  {
   "cell_type": "code",
   "execution_count": 84,
   "metadata": {},
   "outputs": [
    {
     "data": {
      "text/plain": [
       "[3,\n",
       " 26,\n",
       " 65,\n",
       " 92,\n",
       " 95,\n",
       " 96,\n",
       " 103,\n",
       " 118,\n",
       " 131,\n",
       " 184,\n",
       " 196,\n",
       " 224,\n",
       " 239,\n",
       " 253,\n",
       " 269,\n",
       " 272,\n",
       " 282,\n",
       " 283,\n",
       " 320,\n",
       " 327,\n",
       " 335,\n",
       " 348,\n",
       " 355,\n",
       " 368,\n",
       " 371,\n",
       " 387,\n",
       " 408,\n",
       " 419,\n",
       " 451,\n",
       " 457,\n",
       " 466,\n",
       " 469]"
      ]
     },
     "execution_count": 84,
     "metadata": {},
     "output_type": "execute_result"
    }
   ],
   "source": [
    "hallucination_set"
   ]
  },
  {
   "cell_type": "code",
   "execution_count": 83,
   "metadata": {},
   "outputs": [
    {
     "data": {
      "text/plain": [
       "[Text(0, 0, 'Unperturbed'), Text(0, 0, 'Perturbed')]"
      ]
     },
     "execution_count": 83,
     "metadata": {},
     "output_type": "execute_result"
    },
    {
     "data": {
      "image/png": "[encoded data removed]",
      "text/plain": [
       "<Figure size 864x864 with 1 Axes>"
      ]
     },
     "metadata": {
      "needs_background": "light"
     },
     "output_type": "display_data"
    }
   ],
   "source": [
    "mean_src_alti = []\n",
    "mean_preturbed_src_alti = []\n",
    "mean_alti = defaultdict(list)\n",
    "for i in hallucination_set:\n",
    "    mean_alti['Unperturbed'].append(statistics.mean(src_alti_list[i]))\n",
    "    mean_alti['Perturbed'].append(statistics.mean(src_alti_perturbed_list[i]))\n",
    "\n",
    "fig, ax = plt.subplots()\n",
    "ax.boxplot(mean_alti.values(),whiskerprops=dict(linewidth=3.0))\n",
    "ax.set_xticklabels(mean_alti.keys())"
   ]
  },
  {
   "cell_type": "code",
   "execution_count": null,
   "metadata": {},
   "outputs": [],
   "source": []
  }
 ],
 "metadata": {
  "interpreter": {
   "hash": "d90d8f5aa2056217711987bb6fa8dc20d62369a1e594ceedbb30cde0480a32e5"
  },
  "kernelspec": {
   "display_name": "Python 2",
   "language": "python",
   "name": "python3"
  },
  "language_info": {
   "codemirror_mode": {
    "name": "ipython",
    "version": 3
   },
   "file_extension": ".py",
   "mimetype": "text/x-python",
   "name": "python",
   "nbconvert_exporter": "python",
   "pygments_lexer": "ipython3",
   "version": "3.6.12"
  }
 },
 "nbformat": 4,
 "nbformat_minor": 4
}
